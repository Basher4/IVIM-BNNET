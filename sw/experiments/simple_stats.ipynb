{
 "cells": [
  {
   "cell_type": "code",
   "execution_count": 23,
   "metadata": {},
   "outputs": [],
   "source": [
    "from collections import defaultdict\n",
    "import matplotlib.pyplot as plt\n",
    "import numpy as np\n",
    "import pandas as pd\n",
    "import json\n",
    "\n",
    "BNN_PATH = f\"../models/bnn_e01_snr{{}}_{{}}.json\"\n",
    "DNN_ELU_PATH = f\"../models/ivim_e05_SNR{{}}_{{}}.json\"\n",
    "DNN_RELU_PATH = f\"../models/ivimnet_e07_SNR{{}}_{{}}.json\"\n",
    "\n",
    "SNR = [5, 15, 20, 30, 50]\n",
    "\n",
    "bnn_loss = defaultdict(list)\n",
    "de_loss = defaultdict(list)\n",
    "dr_loss = defaultdict(list)\n",
    "\n",
    "data = []\n",
    "\n",
    "for i in range(5):\n",
    "    for snr in SNR:\n",
    "        with open(BNN_PATH.format(snr, i), \"r\") as fd:\n",
    "            bnn = json.load(fd)\n",
    "        with open(DNN_ELU_PATH.format(snr, i), \"r\") as fd:\n",
    "            de = json.load(fd)\n",
    "        with open(DNN_RELU_PATH.format(snr, i), \"r\") as fd:\n",
    "            dr = json.load(fd)\n",
    "\n",
    "        data.extend([\n",
    "            {\"kind\": \"bnn\", \"snr\": snr, \"i\": i, \"final_val_loss\": bnn[\"final_val_loss\"], \"training_time\": bnn[\"training_time\"]},\n",
    "            {\"kind\": \"elu\", \"snr\": snr, \"i\": i, \"final_val_loss\": de[\"final_val_loss\"], \"training_time\": de[\"training_time\"]},\n",
    "            {\"kind\": \"relu\", \"snr\": snr, \"i\": i, \"final_val_loss\": dr[\"final_val_loss\"], \"training_time\": dr[\"training_time\"]}\n",
    "        ])\n",
    "\n",
    "data = pd.DataFrame(data)"
   ]
  },
  {
   "cell_type": "code",
   "execution_count": 17,
   "metadata": {},
   "outputs": [
    {
     "data": {
      "text/plain": [
       "(    kind  snr  i  final_val_loss  training_time\n",
       " 0    bnn    5  0        0.034078    3580.106016\n",
       " 1    elu    5  0        0.024997     818.644397\n",
       " 2   relu    5  0        0.043636    2098.196040\n",
       " 3    bnn   15  0        0.003132    2460.822814\n",
       " 4    elu   15  0        0.003261    1274.311632\n",
       " ..   ...  ... ..             ...            ...\n",
       " 70   elu   30  4        0.000952     915.979472\n",
       " 71  relu   30  4        0.000897    1170.568349\n",
       " 72   bnn   50  4        0.000350    1689.094024\n",
       " 73   elu   50  4        0.000536     815.675672\n",
       " 74  relu   50  4        0.000394    1000.932534\n",
       " \n",
       " [75 rows x 5 columns],\n",
       " 75)"
      ]
     },
     "execution_count": 17,
     "metadata": {},
     "output_type": "execute_result"
    }
   ],
   "source": [
    "data, len(data)"
   ]
  },
  {
   "cell_type": "code",
   "execution_count": 18,
   "metadata": {},
   "outputs": [
    {
     "data": {
      "text/html": [
       "<div>\n",
       "<style scoped>\n",
       "    .dataframe tbody tr th:only-of-type {\n",
       "        vertical-align: middle;\n",
       "    }\n",
       "\n",
       "    .dataframe tbody tr th {\n",
       "        vertical-align: top;\n",
       "    }\n",
       "\n",
       "    .dataframe thead th {\n",
       "        text-align: right;\n",
       "    }\n",
       "</style>\n",
       "<table border=\"1\" class=\"dataframe\">\n",
       "  <thead>\n",
       "    <tr style=\"text-align: right;\">\n",
       "      <th></th>\n",
       "      <th>kind</th>\n",
       "      <th>snr</th>\n",
       "      <th>i</th>\n",
       "      <th>final_val_loss</th>\n",
       "      <th>training_time</th>\n",
       "    </tr>\n",
       "  </thead>\n",
       "  <tbody>\n",
       "    <tr>\n",
       "      <th>0</th>\n",
       "      <td>bnn</td>\n",
       "      <td>5</td>\n",
       "      <td>0</td>\n",
       "      <td>0.034078</td>\n",
       "      <td>3580.106016</td>\n",
       "    </tr>\n",
       "    <tr>\n",
       "      <th>1</th>\n",
       "      <td>elu</td>\n",
       "      <td>5</td>\n",
       "      <td>0</td>\n",
       "      <td>0.024997</td>\n",
       "      <td>818.644397</td>\n",
       "    </tr>\n",
       "    <tr>\n",
       "      <th>2</th>\n",
       "      <td>relu</td>\n",
       "      <td>5</td>\n",
       "      <td>0</td>\n",
       "      <td>0.043636</td>\n",
       "      <td>2098.196040</td>\n",
       "    </tr>\n",
       "    <tr>\n",
       "      <th>15</th>\n",
       "      <td>bnn</td>\n",
       "      <td>5</td>\n",
       "      <td>1</td>\n",
       "      <td>0.034157</td>\n",
       "      <td>3550.523237</td>\n",
       "    </tr>\n",
       "    <tr>\n",
       "      <th>16</th>\n",
       "      <td>elu</td>\n",
       "      <td>5</td>\n",
       "      <td>1</td>\n",
       "      <td>0.024930</td>\n",
       "      <td>1398.252016</td>\n",
       "    </tr>\n",
       "    <tr>\n",
       "      <th>17</th>\n",
       "      <td>relu</td>\n",
       "      <td>5</td>\n",
       "      <td>1</td>\n",
       "      <td>0.043844</td>\n",
       "      <td>954.388035</td>\n",
       "    </tr>\n",
       "    <tr>\n",
       "      <th>30</th>\n",
       "      <td>bnn</td>\n",
       "      <td>5</td>\n",
       "      <td>2</td>\n",
       "      <td>0.034133</td>\n",
       "      <td>3622.853151</td>\n",
       "    </tr>\n",
       "    <tr>\n",
       "      <th>31</th>\n",
       "      <td>elu</td>\n",
       "      <td>5</td>\n",
       "      <td>2</td>\n",
       "      <td>0.024768</td>\n",
       "      <td>1517.124692</td>\n",
       "    </tr>\n",
       "    <tr>\n",
       "      <th>32</th>\n",
       "      <td>relu</td>\n",
       "      <td>5</td>\n",
       "      <td>2</td>\n",
       "      <td>0.024972</td>\n",
       "      <td>1551.054057</td>\n",
       "    </tr>\n",
       "    <tr>\n",
       "      <th>45</th>\n",
       "      <td>bnn</td>\n",
       "      <td>5</td>\n",
       "      <td>3</td>\n",
       "      <td>0.034020</td>\n",
       "      <td>4187.458349</td>\n",
       "    </tr>\n",
       "    <tr>\n",
       "      <th>46</th>\n",
       "      <td>elu</td>\n",
       "      <td>5</td>\n",
       "      <td>3</td>\n",
       "      <td>0.024812</td>\n",
       "      <td>933.954712</td>\n",
       "    </tr>\n",
       "    <tr>\n",
       "      <th>47</th>\n",
       "      <td>relu</td>\n",
       "      <td>5</td>\n",
       "      <td>3</td>\n",
       "      <td>0.025036</td>\n",
       "      <td>1640.213402</td>\n",
       "    </tr>\n",
       "    <tr>\n",
       "      <th>60</th>\n",
       "      <td>bnn</td>\n",
       "      <td>5</td>\n",
       "      <td>4</td>\n",
       "      <td>0.051531</td>\n",
       "      <td>1647.556952</td>\n",
       "    </tr>\n",
       "    <tr>\n",
       "      <th>61</th>\n",
       "      <td>elu</td>\n",
       "      <td>5</td>\n",
       "      <td>4</td>\n",
       "      <td>0.024847</td>\n",
       "      <td>1474.449285</td>\n",
       "    </tr>\n",
       "    <tr>\n",
       "      <th>62</th>\n",
       "      <td>relu</td>\n",
       "      <td>5</td>\n",
       "      <td>4</td>\n",
       "      <td>0.024916</td>\n",
       "      <td>1585.841477</td>\n",
       "    </tr>\n",
       "  </tbody>\n",
       "</table>\n",
       "</div>"
      ],
      "text/plain": [
       "    kind  snr  i  final_val_loss  training_time\n",
       "0    bnn    5  0        0.034078    3580.106016\n",
       "1    elu    5  0        0.024997     818.644397\n",
       "2   relu    5  0        0.043636    2098.196040\n",
       "15   bnn    5  1        0.034157    3550.523237\n",
       "16   elu    5  1        0.024930    1398.252016\n",
       "17  relu    5  1        0.043844     954.388035\n",
       "30   bnn    5  2        0.034133    3622.853151\n",
       "31   elu    5  2        0.024768    1517.124692\n",
       "32  relu    5  2        0.024972    1551.054057\n",
       "45   bnn    5  3        0.034020    4187.458349\n",
       "46   elu    5  3        0.024812     933.954712\n",
       "47  relu    5  3        0.025036    1640.213402\n",
       "60   bnn    5  4        0.051531    1647.556952\n",
       "61   elu    5  4        0.024847    1474.449285\n",
       "62  relu    5  4        0.024916    1585.841477"
      ]
     },
     "execution_count": 18,
     "metadata": {},
     "output_type": "execute_result"
    }
   ],
   "source": [
    "data[data.snr == 5]"
   ]
  },
  {
   "cell_type": "code",
   "execution_count": 87,
   "metadata": {},
   "outputs": [
    {
     "data": {
      "image/png": "[encoded data removed]",
      "text/plain": [
       "<Figure size 432x288 with 1 Axes>"
      ]
     },
     "metadata": {
      "needs_background": "light"
     },
     "output_type": "display_data"
    }
   ],
   "source": [
    "handles = [0, 0, 0]\n",
    "width = 0.7\n",
    "x = np.arange(5)\n",
    "cls = \"final_val_loss\"\n",
    "\n",
    "plt.figure(figsize=(6, 4))\n",
    "\n",
    "for i, kind in enumerate(\"bnn relu elu\".split()):\n",
    "    slc = data[data.kind == kind]\n",
    "    gb = slc.groupby(by=\"snr\")\n",
    "    means, stds = gb.mean(), gb.std()\n",
    "    plt.bar(x + (i-1)*width/3, means[cls].to_numpy(), width/3, yerr=stds[cls].to_numpy(), label=kind)\n",
    "\n",
    "plt.xticks(np.arange(5), [f\"SNR {snr}\" for snr in [5, 15, 20, 30, 50]])\n",
    "plt.yscale(\"log\")\n",
    "plt.title(\"Final Validation Loss\")\n",
    "plt.legend(loc=0)\n",
    "plt.show()"
   ]
  },
  {
   "cell_type": "code",
   "execution_count": 86,
   "metadata": {},
   "outputs": [
    {
     "data": {
      "image/png": "[encoded data removed]",
      "text/plain": [
       "<Figure size 432x288 with 1 Axes>"
      ]
     },
     "metadata": {
      "needs_background": "light"
     },
     "output_type": "display_data"
    }
   ],
   "source": [
    "handles = [0, 0, 0]\n",
    "width = 0.7\n",
    "x = np.arange(5)\n",
    "cls = \"training_time\"\n",
    "\n",
    "plt.figure(figsize=(6, 4))\n",
    "\n",
    "for i, kind in enumerate(\"bnn relu elu\".split()):\n",
    "    slc = data[data.kind == kind]\n",
    "    gb = slc.groupby(by=\"snr\")\n",
    "    means, stds = gb.mean(), gb.std()\n",
    "    plt.bar(x + (i-1)*width/3, means[cls].to_numpy(), width/3, yerr=stds[cls].to_numpy(), label=kind)\n",
    "\n",
    "plt.xticks(np.arange(5), [f\"SNR {snr}\" for snr in [5, 15, 20, 30, 50]])\n",
    "plt.title(\"Training time (s)\")\n",
    "plt.legend(loc=0)\n",
    "plt.show()"
   ]
  },
  {
   "cell_type": "code",
   "execution_count": null,
   "metadata": {},
   "outputs": [],
   "source": []
  }
 ],
 "metadata": {
  "interpreter": {
   "hash": "11938c6bc6919ae2720b4d5011047913343b08a43b18698fd82dedb0d4417594"
  },
  "kernelspec": {
   "display_name": "Python 3.9.9 64-bit",
   "language": "python",
   "name": "python3"
  },
  "language_info": {
   "codemirror_mode": {
    "name": "ipython",
    "version": 3
   },
   "file_extension": ".py",
   "mimetype": "text/x-python",
   "name": "python",
   "nbconvert_exporter": "python",
   "pygments_lexer": "ipython3",
   "version": "3.9.9"
  },
  "orig_nbformat": 4
 },
 "nbformat": 4,
 "nbformat_minor": 2
}
